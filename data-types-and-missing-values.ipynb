{
 "cells": [
  {
   "cell_type": "markdown",
   "id": "29ecfa8d",
   "metadata": {
    "papermill": {
     "duration": 0.016549,
     "end_time": "2022-04-13T04:01:53.145950",
     "exception": false,
     "start_time": "2022-04-13T04:01:53.129401",
     "status": "completed"
    },
    "tags": []
   },
   "source": [
    "**This notebook is an exercise in the [Pandas](https://www.kaggle.com/learn/pandas) course.  You can reference the tutorial at [this link](https://www.kaggle.com/residentmario/data-types-and-missing-values).**\n",
    "\n",
    "---\n"
   ]
  },
  {
   "cell_type": "markdown",
   "id": "f1990dfd",
   "metadata": {
    "papermill": {
     "duration": 0.015004,
     "end_time": "2022-04-13T04:01:53.176901",
     "exception": false,
     "start_time": "2022-04-13T04:01:53.161897",
     "status": "completed"
    },
    "tags": []
   },
   "source": [
    "# Introduction\n",
    "\n",
    "Run the following cell to load your data and some utility functions."
   ]
  },
  {
   "cell_type": "code",
   "execution_count": 1,
   "id": "8a5ab6a9",
   "metadata": {
    "execution": {
     "iopub.execute_input": "2022-04-13T04:01:53.213546Z",
     "iopub.status.busy": "2022-04-13T04:01:53.212344Z",
     "iopub.status.idle": "2022-04-13T04:01:56.066667Z",
     "shell.execute_reply": "2022-04-13T04:01:56.067245Z",
     "shell.execute_reply.started": "2022-04-13T03:53:20.277657Z"
    },
    "papermill": {
     "duration": 2.874515,
     "end_time": "2022-04-13T04:01:56.067533",
     "exception": false,
     "start_time": "2022-04-13T04:01:53.193018",
     "status": "completed"
    },
    "tags": []
   },
   "outputs": [
    {
     "name": "stdout",
     "output_type": "stream",
     "text": [
      "Setup complete.\n"
     ]
    }
   ],
   "source": [
    "import pandas as pd\n",
    "\n",
    "reviews = pd.read_csv(\"../input/wine-reviews/winemag-data-130k-v2.csv\", index_col=0)\n",
    "\n",
    "from learntools.core import binder; binder.bind(globals())\n",
    "from learntools.pandas.data_types_and_missing_data import *\n",
    "print(\"Setup complete.\")"
   ]
  },
  {
   "cell_type": "markdown",
   "id": "28b47574",
   "metadata": {
    "papermill": {
     "duration": 0.015512,
     "end_time": "2022-04-13T04:01:56.099590",
     "exception": false,
     "start_time": "2022-04-13T04:01:56.084078",
     "status": "completed"
    },
    "tags": []
   },
   "source": [
    "# Exercises"
   ]
  },
  {
   "cell_type": "markdown",
   "id": "17d44ed7",
   "metadata": {
    "papermill": {
     "duration": 0.015706,
     "end_time": "2022-04-13T04:01:56.131066",
     "exception": false,
     "start_time": "2022-04-13T04:01:56.115360",
     "status": "completed"
    },
    "tags": []
   },
   "source": [
    "## 1. \n",
    "What is the data type of the `points` column in the dataset?"
   ]
  },
  {
   "cell_type": "code",
   "execution_count": 2,
   "id": "547bfef4",
   "metadata": {
    "execution": {
     "iopub.execute_input": "2022-04-13T04:01:56.166581Z",
     "iopub.status.busy": "2022-04-13T04:01:56.165569Z",
     "iopub.status.idle": "2022-04-13T04:01:56.176796Z",
     "shell.execute_reply": "2022-04-13T04:01:56.176175Z",
     "shell.execute_reply.started": "2022-04-13T03:53:23.268228Z"
    },
    "papermill": {
     "duration": 0.030106,
     "end_time": "2022-04-13T04:01:56.176942",
     "exception": false,
     "start_time": "2022-04-13T04:01:56.146836",
     "status": "completed"
    },
    "tags": []
   },
   "outputs": [
    {
     "data": {
      "application/javascript": [
       "parent.postMessage({\"jupyterEvent\": \"custom.exercise_interaction\", \"data\": {\"outcomeType\": 1, \"valueTowardsCompletion\": 0.25, \"interactionType\": 1, \"questionType\": 1, \"questionId\": \"1_PointsDtype\", \"learnToolsVersion\": \"0.3.4\", \"failureMessage\": \"\", \"exceptionClass\": \"\", \"trace\": \"\"}}, \"*\")"
      ],
      "text/plain": [
       "<IPython.core.display.Javascript object>"
      ]
     },
     "metadata": {},
     "output_type": "display_data"
    },
    {
     "data": {
      "text/markdown": [
       "<span style=\"color:#33cc33\">Correct</span>"
      ],
      "text/plain": [
       "Correct"
      ]
     },
     "metadata": {},
     "output_type": "display_data"
    }
   ],
   "source": [
    "# Your code here\n",
    "dtype = reviews.points.dtype\n",
    "\n",
    "# Check your answer\n",
    "q1.check()"
   ]
  },
  {
   "cell_type": "code",
   "execution_count": 3,
   "id": "efe88d9c",
   "metadata": {
    "execution": {
     "iopub.execute_input": "2022-04-13T04:01:56.215972Z",
     "iopub.status.busy": "2022-04-13T04:01:56.215293Z",
     "iopub.status.idle": "2022-04-13T04:01:56.216906Z",
     "shell.execute_reply": "2022-04-13T04:01:56.217368Z",
     "shell.execute_reply.started": "2022-04-13T03:53:23.279710Z"
    },
    "papermill": {
     "duration": 0.023436,
     "end_time": "2022-04-13T04:01:56.217551",
     "exception": false,
     "start_time": "2022-04-13T04:01:56.194115",
     "status": "completed"
    },
    "tags": []
   },
   "outputs": [],
   "source": [
    "#q1.hint()\n",
    "#q1.solution()"
   ]
  },
  {
   "cell_type": "markdown",
   "id": "1811773b",
   "metadata": {
    "papermill": {
     "duration": 0.016764,
     "end_time": "2022-04-13T04:01:56.252122",
     "exception": false,
     "start_time": "2022-04-13T04:01:56.235358",
     "status": "completed"
    },
    "tags": []
   },
   "source": [
    "## 2. \n",
    "Create a Series from entries in the `points` column, but convert the entries to strings. Hint: strings are `str` in native Python."
   ]
  },
  {
   "cell_type": "code",
   "execution_count": 4,
   "id": "10038460",
   "metadata": {
    "execution": {
     "iopub.execute_input": "2022-04-13T04:01:56.428420Z",
     "iopub.status.busy": "2022-04-13T04:01:56.427729Z",
     "iopub.status.idle": "2022-04-13T04:01:56.433708Z",
     "shell.execute_reply": "2022-04-13T04:01:56.434208Z",
     "shell.execute_reply.started": "2022-04-13T03:53:57.517017Z"
    },
    "papermill": {
     "duration": 0.165173,
     "end_time": "2022-04-13T04:01:56.434371",
     "exception": false,
     "start_time": "2022-04-13T04:01:56.269198",
     "status": "completed"
    },
    "tags": []
   },
   "outputs": [
    {
     "data": {
      "application/javascript": [
       "parent.postMessage({\"jupyterEvent\": \"custom.exercise_interaction\", \"data\": {\"outcomeType\": 1, \"valueTowardsCompletion\": 0.25, \"interactionType\": 1, \"questionType\": 1, \"questionId\": \"2_StrPoints\", \"learnToolsVersion\": \"0.3.4\", \"failureMessage\": \"\", \"exceptionClass\": \"\", \"trace\": \"\"}}, \"*\")"
      ],
      "text/plain": [
       "<IPython.core.display.Javascript object>"
      ]
     },
     "metadata": {},
     "output_type": "display_data"
    },
    {
     "data": {
      "text/markdown": [
       "<span style=\"color:#33cc33\">Correct</span>"
      ],
      "text/plain": [
       "Correct"
      ]
     },
     "metadata": {},
     "output_type": "display_data"
    }
   ],
   "source": [
    "point_strings = reviews.points.astype('str')\n",
    "\n",
    "# Check your answer\n",
    "q2.check()"
   ]
  },
  {
   "cell_type": "code",
   "execution_count": 5,
   "id": "307d4272",
   "metadata": {
    "execution": {
     "iopub.execute_input": "2022-04-13T04:01:56.475331Z",
     "iopub.status.busy": "2022-04-13T04:01:56.474677Z",
     "iopub.status.idle": "2022-04-13T04:01:56.478050Z",
     "shell.execute_reply": "2022-04-13T04:01:56.477554Z",
     "shell.execute_reply.started": "2022-04-13T03:53:58.817202Z"
    },
    "papermill": {
     "duration": 0.025672,
     "end_time": "2022-04-13T04:01:56.478204",
     "exception": false,
     "start_time": "2022-04-13T04:01:56.452532",
     "status": "completed"
    },
    "tags": []
   },
   "outputs": [],
   "source": [
    "#q2.hint()\n",
    "#q2.solution()"
   ]
  },
  {
   "cell_type": "markdown",
   "id": "6eb11b6b",
   "metadata": {
    "papermill": {
     "duration": 0.017916,
     "end_time": "2022-04-13T04:01:56.514502",
     "exception": false,
     "start_time": "2022-04-13T04:01:56.496586",
     "status": "completed"
    },
    "tags": []
   },
   "source": [
    "## 3.\n",
    "Sometimes the price column is null. How many reviews in the dataset are missing a price?"
   ]
  },
  {
   "cell_type": "code",
   "execution_count": 6,
   "id": "0b796824",
   "metadata": {
    "execution": {
     "iopub.execute_input": "2022-04-13T04:01:56.556352Z",
     "iopub.status.busy": "2022-04-13T04:01:56.555450Z",
     "iopub.status.idle": "2022-04-13T04:01:56.569119Z",
     "shell.execute_reply": "2022-04-13T04:01:56.568492Z",
     "shell.execute_reply.started": "2022-04-13T03:56:08.194725Z"
    },
    "papermill": {
     "duration": 0.03674,
     "end_time": "2022-04-13T04:01:56.569257",
     "exception": false,
     "start_time": "2022-04-13T04:01:56.532517",
     "status": "completed"
    },
    "tags": []
   },
   "outputs": [
    {
     "data": {
      "application/javascript": [
       "parent.postMessage({\"jupyterEvent\": \"custom.exercise_interaction\", \"data\": {\"outcomeType\": 1, \"valueTowardsCompletion\": 0.25, \"interactionType\": 1, \"questionType\": 1, \"questionId\": \"3_CountMissingPrices\", \"learnToolsVersion\": \"0.3.4\", \"failureMessage\": \"\", \"exceptionClass\": \"\", \"trace\": \"\"}}, \"*\")"
      ],
      "text/plain": [
       "<IPython.core.display.Javascript object>"
      ]
     },
     "metadata": {},
     "output_type": "display_data"
    },
    {
     "data": {
      "text/markdown": [
       "<span style=\"color:#33cc33\">Correct</span>"
      ],
      "text/plain": [
       "Correct"
      ]
     },
     "metadata": {},
     "output_type": "display_data"
    }
   ],
   "source": [
    "n_missing_prices = reviews[pd.isnull(reviews.price)].shape[0]\n",
    "\n",
    "# Check your answer\n",
    "q3.check()"
   ]
  },
  {
   "cell_type": "code",
   "execution_count": 7,
   "id": "a964adcd",
   "metadata": {
    "execution": {
     "iopub.execute_input": "2022-04-13T04:01:56.612676Z",
     "iopub.status.busy": "2022-04-13T04:01:56.611989Z",
     "iopub.status.idle": "2022-04-13T04:01:56.615251Z",
     "shell.execute_reply": "2022-04-13T04:01:56.614709Z",
     "shell.execute_reply.started": "2022-04-13T03:56:54.654726Z"
    },
    "papermill": {
     "duration": 0.026428,
     "end_time": "2022-04-13T04:01:56.615393",
     "exception": false,
     "start_time": "2022-04-13T04:01:56.588965",
     "status": "completed"
    },
    "tags": []
   },
   "outputs": [],
   "source": [
    "#q3.hint()\n",
    "#q3.solution()"
   ]
  },
  {
   "cell_type": "markdown",
   "id": "3e7605fd",
   "metadata": {
    "papermill": {
     "duration": 0.019105,
     "end_time": "2022-04-13T04:01:56.654108",
     "exception": false,
     "start_time": "2022-04-13T04:01:56.635003",
     "status": "completed"
    },
    "tags": []
   },
   "source": [
    "## 4.\n",
    "What are the most common wine-producing regions? Create a Series counting the number of times each value occurs in the `region_1` field. This field is often missing data, so replace missing values with `Unknown`. Sort in descending order.  Your output should look something like this:\n",
    "\n",
    "```\n",
    "Unknown                    21247\n",
    "Napa Valley                 4480\n",
    "                           ...  \n",
    "Bardolino Superiore            1\n",
    "Primitivo del Tarantino        1\n",
    "Name: region_1, Length: 1230, dtype: int64\n",
    "```"
   ]
  },
  {
   "cell_type": "code",
   "execution_count": 8,
   "id": "faefee0a",
   "metadata": {
    "execution": {
     "iopub.execute_input": "2022-04-13T04:01:56.710628Z",
     "iopub.status.busy": "2022-04-13T04:01:56.709933Z",
     "iopub.status.idle": "2022-04-13T04:01:56.770356Z",
     "shell.execute_reply": "2022-04-13T04:01:56.771049Z",
     "shell.execute_reply.started": "2022-04-13T04:01:10.474271Z"
    },
    "papermill": {
     "duration": 0.097856,
     "end_time": "2022-04-13T04:01:56.771225",
     "exception": false,
     "start_time": "2022-04-13T04:01:56.673369",
     "status": "completed"
    },
    "tags": []
   },
   "outputs": [
    {
     "data": {
      "application/javascript": [
       "parent.postMessage({\"jupyterEvent\": \"custom.exercise_interaction\", \"data\": {\"outcomeType\": 1, \"valueTowardsCompletion\": 0.25, \"interactionType\": 1, \"questionType\": 2, \"questionId\": \"4_ReviewsPerRegion\", \"learnToolsVersion\": \"0.3.4\", \"failureMessage\": \"\", \"exceptionClass\": \"\", \"trace\": \"\"}}, \"*\")"
      ],
      "text/plain": [
       "<IPython.core.display.Javascript object>"
      ]
     },
     "metadata": {},
     "output_type": "display_data"
    },
    {
     "data": {
      "text/markdown": [
       "<span style=\"color:#33cc33\">Correct</span>"
      ],
      "text/plain": [
       "Correct"
      ]
     },
     "metadata": {},
     "output_type": "display_data"
    }
   ],
   "source": [
    "\n",
    "reviews_per_region = reviews.region_1.fillna('Unknown').value_counts().sort_values(ascending=False)\n",
    "\n",
    "# Check your answer\n",
    "q4.check()"
   ]
  },
  {
   "cell_type": "code",
   "execution_count": 9,
   "id": "6d6669a7",
   "metadata": {
    "execution": {
     "iopub.execute_input": "2022-04-13T04:01:56.816246Z",
     "iopub.status.busy": "2022-04-13T04:01:56.815538Z",
     "iopub.status.idle": "2022-04-13T04:01:56.818474Z",
     "shell.execute_reply": "2022-04-13T04:01:56.819102Z",
     "shell.execute_reply.started": "2022-04-13T04:01:17.501789Z"
    },
    "papermill": {
     "duration": 0.027358,
     "end_time": "2022-04-13T04:01:56.819298",
     "exception": false,
     "start_time": "2022-04-13T04:01:56.791940",
     "status": "completed"
    },
    "tags": []
   },
   "outputs": [],
   "source": [
    "#q4.hint()\n",
    "#q4.solution()"
   ]
  },
  {
   "cell_type": "markdown",
   "id": "5a137d6d",
   "metadata": {
    "papermill": {
     "duration": 0.021095,
     "end_time": "2022-04-13T04:01:56.861341",
     "exception": false,
     "start_time": "2022-04-13T04:01:56.840246",
     "status": "completed"
    },
    "tags": []
   },
   "source": [
    "# Keep going\n",
    "\n",
    "Move on to **[renaming and combining](https://www.kaggle.com/residentmario/renaming-and-combining)**."
   ]
  },
  {
   "cell_type": "markdown",
   "id": "7361933f",
   "metadata": {
    "papermill": {
     "duration": 0.021409,
     "end_time": "2022-04-13T04:01:56.903505",
     "exception": false,
     "start_time": "2022-04-13T04:01:56.882096",
     "status": "completed"
    },
    "tags": []
   },
   "source": [
    "---\n",
    "\n",
    "\n",
    "\n",
    "\n",
    "*Have questions or comments? Visit the [course discussion forum](https://www.kaggle.com/learn/pandas/discussion) to chat with other learners.*"
   ]
  }
 ],
 "metadata": {
  "kernelspec": {
   "display_name": "Python 3",
   "language": "python",
   "name": "python3"
  },
  "language_info": {
   "codemirror_mode": {
    "name": "ipython",
    "version": 3
   },
   "file_extension": ".py",
   "mimetype": "text/x-python",
   "name": "python",
   "nbconvert_exporter": "python",
   "pygments_lexer": "ipython3",
   "version": "3.7.12"
  },
  "papermill": {
   "default_parameters": {},
   "duration": 14.858763,
   "end_time": "2022-04-13T04:01:57.636827",
   "environment_variables": {},
   "exception": null,
   "input_path": "__notebook__.ipynb",
   "output_path": "__notebook__.ipynb",
   "parameters": {},
   "start_time": "2022-04-13T04:01:42.778064",
   "version": "2.3.3"
  }
 },
 "nbformat": 4,
 "nbformat_minor": 5
}
