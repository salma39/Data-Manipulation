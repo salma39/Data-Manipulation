{
 "cells": [
  {
   "cell_type": "markdown",
   "id": "02917775",
   "metadata": {
    "papermill": {
     "duration": 0.016422,
     "end_time": "2022-04-13T04:19:49.879050",
     "exception": false,
     "start_time": "2022-04-13T04:19:49.862628",
     "status": "completed"
    },
    "tags": []
   },
   "source": [
    "**This notebook is an exercise in the [Pandas](https://www.kaggle.com/learn/pandas) course.  You can reference the tutorial at [this link](https://www.kaggle.com/residentmario/renaming-and-combining).**\n",
    "\n",
    "---\n"
   ]
  },
  {
   "cell_type": "markdown",
   "id": "2f632713",
   "metadata": {
    "papermill": {
     "duration": 0.014623,
     "end_time": "2022-04-13T04:19:49.909125",
     "exception": false,
     "start_time": "2022-04-13T04:19:49.894502",
     "status": "completed"
    },
    "tags": []
   },
   "source": [
    "# Introduction\n",
    "\n",
    "Run the following cell to load your data and some utility functions."
   ]
  },
  {
   "cell_type": "code",
   "execution_count": 1,
   "id": "58446e5b",
   "metadata": {
    "execution": {
     "iopub.execute_input": "2022-04-13T04:19:49.943266Z",
     "iopub.status.busy": "2022-04-13T04:19:49.942151Z",
     "iopub.status.idle": "2022-04-13T04:19:53.630744Z",
     "shell.execute_reply": "2022-04-13T04:19:53.629794Z",
     "shell.execute_reply.started": "2022-04-13T04:07:59.226019Z"
    },
    "papermill": {
     "duration": 3.706766,
     "end_time": "2022-04-13T04:19:53.630952",
     "exception": false,
     "start_time": "2022-04-13T04:19:49.924186",
     "status": "completed"
    },
    "tags": []
   },
   "outputs": [
    {
     "name": "stdout",
     "output_type": "stream",
     "text": [
      "Setup complete.\n"
     ]
    }
   ],
   "source": [
    "import pandas as pd\n",
    "\n",
    "reviews = pd.read_csv(\"../input/wine-reviews/winemag-data-130k-v2.csv\", index_col=0)\n",
    "\n",
    "from learntools.core import binder; binder.bind(globals())\n",
    "from learntools.pandas.renaming_and_combining import *\n",
    "print(\"Setup complete.\")"
   ]
  },
  {
   "cell_type": "markdown",
   "id": "aacdbc35",
   "metadata": {
    "papermill": {
     "duration": 0.015062,
     "end_time": "2022-04-13T04:19:53.663505",
     "exception": false,
     "start_time": "2022-04-13T04:19:53.648443",
     "status": "completed"
    },
    "tags": []
   },
   "source": [
    "# Exercises\n",
    "\n",
    "View the first several lines of your data by running the cell below:"
   ]
  },
  {
   "cell_type": "code",
   "execution_count": 2,
   "id": "c90d6378",
   "metadata": {
    "execution": {
     "iopub.execute_input": "2022-04-13T04:19:53.701634Z",
     "iopub.status.busy": "2022-04-13T04:19:53.700590Z",
     "iopub.status.idle": "2022-04-13T04:19:53.720879Z",
     "shell.execute_reply": "2022-04-13T04:19:53.721417Z",
     "shell.execute_reply.started": "2022-04-13T04:08:03.284968Z"
    },
    "papermill": {
     "duration": 0.042307,
     "end_time": "2022-04-13T04:19:53.721590",
     "exception": false,
     "start_time": "2022-04-13T04:19:53.679283",
     "status": "completed"
    },
    "tags": []
   },
   "outputs": [
    {
     "data": {
      "text/html": [
       "<div>\n",
       "<style scoped>\n",
       "    .dataframe tbody tr th:only-of-type {\n",
       "        vertical-align: middle;\n",
       "    }\n",
       "\n",
       "    .dataframe tbody tr th {\n",
       "        vertical-align: top;\n",
       "    }\n",
       "\n",
       "    .dataframe thead th {\n",
       "        text-align: right;\n",
       "    }\n",
       "</style>\n",
       "<table border=\"1\" class=\"dataframe\">\n",
       "  <thead>\n",
       "    <tr style=\"text-align: right;\">\n",
       "      <th></th>\n",
       "      <th>country</th>\n",
       "      <th>description</th>\n",
       "      <th>designation</th>\n",
       "      <th>points</th>\n",
       "      <th>price</th>\n",
       "      <th>province</th>\n",
       "      <th>region_1</th>\n",
       "      <th>region_2</th>\n",
       "      <th>taster_name</th>\n",
       "      <th>taster_twitter_handle</th>\n",
       "      <th>title</th>\n",
       "      <th>variety</th>\n",
       "      <th>winery</th>\n",
       "    </tr>\n",
       "  </thead>\n",
       "  <tbody>\n",
       "    <tr>\n",
       "      <th>0</th>\n",
       "      <td>Italy</td>\n",
       "      <td>Aromas include tropical fruit, broom, brimston...</td>\n",
       "      <td>Vulkà Bianco</td>\n",
       "      <td>87</td>\n",
       "      <td>NaN</td>\n",
       "      <td>Sicily &amp; Sardinia</td>\n",
       "      <td>Etna</td>\n",
       "      <td>NaN</td>\n",
       "      <td>Kerin O’Keefe</td>\n",
       "      <td>@kerinokeefe</td>\n",
       "      <td>Nicosia 2013 Vulkà Bianco  (Etna)</td>\n",
       "      <td>White Blend</td>\n",
       "      <td>Nicosia</td>\n",
       "    </tr>\n",
       "    <tr>\n",
       "      <th>1</th>\n",
       "      <td>Portugal</td>\n",
       "      <td>This is ripe and fruity, a wine that is smooth...</td>\n",
       "      <td>Avidagos</td>\n",
       "      <td>87</td>\n",
       "      <td>15.0</td>\n",
       "      <td>Douro</td>\n",
       "      <td>NaN</td>\n",
       "      <td>NaN</td>\n",
       "      <td>Roger Voss</td>\n",
       "      <td>@vossroger</td>\n",
       "      <td>Quinta dos Avidagos 2011 Avidagos Red (Douro)</td>\n",
       "      <td>Portuguese Red</td>\n",
       "      <td>Quinta dos Avidagos</td>\n",
       "    </tr>\n",
       "    <tr>\n",
       "      <th>2</th>\n",
       "      <td>US</td>\n",
       "      <td>Tart and snappy, the flavors of lime flesh and...</td>\n",
       "      <td>NaN</td>\n",
       "      <td>87</td>\n",
       "      <td>14.0</td>\n",
       "      <td>Oregon</td>\n",
       "      <td>Willamette Valley</td>\n",
       "      <td>Willamette Valley</td>\n",
       "      <td>Paul Gregutt</td>\n",
       "      <td>@paulgwine</td>\n",
       "      <td>Rainstorm 2013 Pinot Gris (Willamette Valley)</td>\n",
       "      <td>Pinot Gris</td>\n",
       "      <td>Rainstorm</td>\n",
       "    </tr>\n",
       "    <tr>\n",
       "      <th>3</th>\n",
       "      <td>US</td>\n",
       "      <td>Pineapple rind, lemon pith and orange blossom ...</td>\n",
       "      <td>Reserve Late Harvest</td>\n",
       "      <td>87</td>\n",
       "      <td>13.0</td>\n",
       "      <td>Michigan</td>\n",
       "      <td>Lake Michigan Shore</td>\n",
       "      <td>NaN</td>\n",
       "      <td>Alexander Peartree</td>\n",
       "      <td>NaN</td>\n",
       "      <td>St. Julian 2013 Reserve Late Harvest Riesling ...</td>\n",
       "      <td>Riesling</td>\n",
       "      <td>St. Julian</td>\n",
       "    </tr>\n",
       "    <tr>\n",
       "      <th>4</th>\n",
       "      <td>US</td>\n",
       "      <td>Much like the regular bottling from 2012, this...</td>\n",
       "      <td>Vintner's Reserve Wild Child Block</td>\n",
       "      <td>87</td>\n",
       "      <td>65.0</td>\n",
       "      <td>Oregon</td>\n",
       "      <td>Willamette Valley</td>\n",
       "      <td>Willamette Valley</td>\n",
       "      <td>Paul Gregutt</td>\n",
       "      <td>@paulgwine</td>\n",
       "      <td>Sweet Cheeks 2012 Vintner's Reserve Wild Child...</td>\n",
       "      <td>Pinot Noir</td>\n",
       "      <td>Sweet Cheeks</td>\n",
       "    </tr>\n",
       "  </tbody>\n",
       "</table>\n",
       "</div>"
      ],
      "text/plain": [
       "    country                                        description  \\\n",
       "0     Italy  Aromas include tropical fruit, broom, brimston...   \n",
       "1  Portugal  This is ripe and fruity, a wine that is smooth...   \n",
       "2        US  Tart and snappy, the flavors of lime flesh and...   \n",
       "3        US  Pineapple rind, lemon pith and orange blossom ...   \n",
       "4        US  Much like the regular bottling from 2012, this...   \n",
       "\n",
       "                          designation  points  price           province  \\\n",
       "0                        Vulkà Bianco      87    NaN  Sicily & Sardinia   \n",
       "1                            Avidagos      87   15.0              Douro   \n",
       "2                                 NaN      87   14.0             Oregon   \n",
       "3                Reserve Late Harvest      87   13.0           Michigan   \n",
       "4  Vintner's Reserve Wild Child Block      87   65.0             Oregon   \n",
       "\n",
       "              region_1           region_2         taster_name  \\\n",
       "0                 Etna                NaN       Kerin O’Keefe   \n",
       "1                  NaN                NaN          Roger Voss   \n",
       "2    Willamette Valley  Willamette Valley        Paul Gregutt   \n",
       "3  Lake Michigan Shore                NaN  Alexander Peartree   \n",
       "4    Willamette Valley  Willamette Valley        Paul Gregutt   \n",
       "\n",
       "  taster_twitter_handle                                              title  \\\n",
       "0          @kerinokeefe                  Nicosia 2013 Vulkà Bianco  (Etna)   \n",
       "1            @vossroger      Quinta dos Avidagos 2011 Avidagos Red (Douro)   \n",
       "2           @paulgwine       Rainstorm 2013 Pinot Gris (Willamette Valley)   \n",
       "3                   NaN  St. Julian 2013 Reserve Late Harvest Riesling ...   \n",
       "4           @paulgwine   Sweet Cheeks 2012 Vintner's Reserve Wild Child...   \n",
       "\n",
       "          variety               winery  \n",
       "0     White Blend              Nicosia  \n",
       "1  Portuguese Red  Quinta dos Avidagos  \n",
       "2      Pinot Gris            Rainstorm  \n",
       "3        Riesling           St. Julian  \n",
       "4      Pinot Noir         Sweet Cheeks  "
      ]
     },
     "execution_count": 2,
     "metadata": {},
     "output_type": "execute_result"
    }
   ],
   "source": [
    "reviews.head()"
   ]
  },
  {
   "cell_type": "markdown",
   "id": "484f06d9",
   "metadata": {
    "papermill": {
     "duration": 0.015677,
     "end_time": "2022-04-13T04:19:53.753796",
     "exception": false,
     "start_time": "2022-04-13T04:19:53.738119",
     "status": "completed"
    },
    "tags": []
   },
   "source": [
    "## 1.\n",
    "`region_1` and `region_2` are pretty uninformative names for locale columns in the dataset. Create a copy of `reviews` with these columns renamed to `region` and `locale`, respectively."
   ]
  },
  {
   "cell_type": "markdown",
   "id": "4997d31b",
   "metadata": {
    "papermill": {
     "duration": 0.015454,
     "end_time": "2022-04-13T04:19:53.785694",
     "exception": false,
     "start_time": "2022-04-13T04:19:53.770240",
     "status": "completed"
    },
    "tags": []
   },
   "source": []
  },
  {
   "cell_type": "code",
   "execution_count": 3,
   "id": "0d5177ac",
   "metadata": {
    "execution": {
     "iopub.execute_input": "2022-04-13T04:19:53.821259Z",
     "iopub.status.busy": "2022-04-13T04:19:53.820314Z",
     "iopub.status.idle": "2022-04-13T04:19:53.852902Z",
     "shell.execute_reply": "2022-04-13T04:19:53.853332Z",
     "shell.execute_reply.started": "2022-04-13T04:09:53.896598Z"
    },
    "papermill": {
     "duration": 0.05196,
     "end_time": "2022-04-13T04:19:53.853506",
     "exception": false,
     "start_time": "2022-04-13T04:19:53.801546",
     "status": "completed"
    },
    "tags": []
   },
   "outputs": [
    {
     "data": {
      "application/javascript": [
       "parent.postMessage({\"jupyterEvent\": \"custom.exercise_interaction\", \"data\": {\"outcomeType\": 1, \"valueTowardsCompletion\": 0.25, \"interactionType\": 1, \"questionType\": 1, \"questionId\": \"1_RenameCols\", \"learnToolsVersion\": \"0.3.4\", \"failureMessage\": \"\", \"exceptionClass\": \"\", \"trace\": \"\"}}, \"*\")"
      ],
      "text/plain": [
       "<IPython.core.display.Javascript object>"
      ]
     },
     "metadata": {},
     "output_type": "display_data"
    },
    {
     "data": {
      "text/markdown": [
       "<span style=\"color:#33cc33\">Correct</span>"
      ],
      "text/plain": [
       "Correct"
      ]
     },
     "metadata": {},
     "output_type": "display_data"
    }
   ],
   "source": [
    "# Your code here\n",
    "renamed = reviews.rename(columns={'region_1':'region','region_2':'locale'})\n",
    "\n",
    "# Check your answer\n",
    "q1.check()"
   ]
  },
  {
   "cell_type": "code",
   "execution_count": 4,
   "id": "1ec9deb0",
   "metadata": {
    "execution": {
     "iopub.execute_input": "2022-04-13T04:19:53.891685Z",
     "iopub.status.busy": "2022-04-13T04:19:53.891023Z",
     "iopub.status.idle": "2022-04-13T04:19:53.892683Z",
     "shell.execute_reply": "2022-04-13T04:19:53.893189Z",
     "shell.execute_reply.started": "2022-04-13T04:09:55.998341Z"
    },
    "papermill": {
     "duration": 0.023187,
     "end_time": "2022-04-13T04:19:53.893372",
     "exception": false,
     "start_time": "2022-04-13T04:19:53.870185",
     "status": "completed"
    },
    "tags": []
   },
   "outputs": [],
   "source": [
    "#q1.hint()\n",
    "#q1.solution()"
   ]
  },
  {
   "cell_type": "markdown",
   "id": "72f2e38a",
   "metadata": {
    "papermill": {
     "duration": 0.016457,
     "end_time": "2022-04-13T04:19:53.927412",
     "exception": false,
     "start_time": "2022-04-13T04:19:53.910955",
     "status": "completed"
    },
    "tags": []
   },
   "source": [
    "## 2.\n",
    "Set the index name in the dataset to `wines`."
   ]
  },
  {
   "cell_type": "code",
   "execution_count": 5,
   "id": "465611f9",
   "metadata": {
    "execution": {
     "iopub.execute_input": "2022-04-13T04:19:53.967574Z",
     "iopub.status.busy": "2022-04-13T04:19:53.966923Z",
     "iopub.status.idle": "2022-04-13T04:19:53.993821Z",
     "shell.execute_reply": "2022-04-13T04:19:53.994269Z",
     "shell.execute_reply.started": "2022-04-13T04:12:49.092645Z"
    },
    "papermill": {
     "duration": 0.05027,
     "end_time": "2022-04-13T04:19:53.994433",
     "exception": false,
     "start_time": "2022-04-13T04:19:53.944163",
     "status": "completed"
    },
    "tags": []
   },
   "outputs": [
    {
     "data": {
      "application/javascript": [
       "parent.postMessage({\"jupyterEvent\": \"custom.exercise_interaction\", \"data\": {\"outcomeType\": 1, \"valueTowardsCompletion\": 0.25, \"interactionType\": 1, \"questionType\": 1, \"questionId\": \"2_RenameIndex\", \"learnToolsVersion\": \"0.3.4\", \"failureMessage\": \"\", \"exceptionClass\": \"\", \"trace\": \"\"}}, \"*\")"
      ],
      "text/plain": [
       "<IPython.core.display.Javascript object>"
      ]
     },
     "metadata": {},
     "output_type": "display_data"
    },
    {
     "data": {
      "text/markdown": [
       "<span style=\"color:#33cc33\">Correct</span>"
      ],
      "text/plain": [
       "Correct"
      ]
     },
     "metadata": {},
     "output_type": "display_data"
    }
   ],
   "source": [
    "\n",
    "reindexed = reviews.rename_axis('wines',axis='rows')\n",
    "\n",
    "# Check your answer\n",
    "q2.check()"
   ]
  },
  {
   "cell_type": "code",
   "execution_count": 6,
   "id": "2de9584d",
   "metadata": {
    "execution": {
     "iopub.execute_input": "2022-04-13T04:19:54.033037Z",
     "iopub.status.busy": "2022-04-13T04:19:54.032410Z",
     "iopub.status.idle": "2022-04-13T04:19:54.035339Z",
     "shell.execute_reply": "2022-04-13T04:19:54.035894Z",
     "shell.execute_reply.started": "2022-04-13T04:12:54.839431Z"
    },
    "papermill": {
     "duration": 0.023824,
     "end_time": "2022-04-13T04:19:54.036076",
     "exception": false,
     "start_time": "2022-04-13T04:19:54.012252",
     "status": "completed"
    },
    "tags": []
   },
   "outputs": [],
   "source": [
    "#q2.hint()\n",
    "#q2.solution()"
   ]
  },
  {
   "cell_type": "markdown",
   "id": "17e13206",
   "metadata": {
    "papermill": {
     "duration": 0.01737,
     "end_time": "2022-04-13T04:19:54.071391",
     "exception": false,
     "start_time": "2022-04-13T04:19:54.054021",
     "status": "completed"
    },
    "tags": []
   },
   "source": [
    "## 3.\n",
    "The [Things on Reddit](https://www.kaggle.com/residentmario/things-on-reddit/data) dataset includes product links from a selection of top-ranked forums (\"subreddits\") on reddit.com. Run the cell below to load a dataframe of products mentioned on the */r/gaming* subreddit and another dataframe for products mentioned on the *r//movies* subreddit."
   ]
  },
  {
   "cell_type": "code",
   "execution_count": 7,
   "id": "e273ae87",
   "metadata": {
    "execution": {
     "iopub.execute_input": "2022-04-13T04:19:54.109726Z",
     "iopub.status.busy": "2022-04-13T04:19:54.109135Z",
     "iopub.status.idle": "2022-04-13T04:19:54.122674Z",
     "shell.execute_reply": "2022-04-13T04:19:54.123226Z",
     "shell.execute_reply.started": "2022-04-13T04:13:00.191815Z"
    },
    "papermill": {
     "duration": 0.034292,
     "end_time": "2022-04-13T04:19:54.123399",
     "exception": false,
     "start_time": "2022-04-13T04:19:54.089107",
     "status": "completed"
    },
    "tags": []
   },
   "outputs": [],
   "source": [
    "gaming_products = pd.read_csv(\"../input/things-on-reddit/top-things/top-things/reddits/g/gaming.csv\")\n",
    "gaming_products['subreddit'] = \"r/gaming\"\n",
    "movie_products = pd.read_csv(\"../input/things-on-reddit/top-things/top-things/reddits/m/movies.csv\")\n",
    "movie_products['subreddit'] = \"r/movies\""
   ]
  },
  {
   "cell_type": "markdown",
   "id": "b6f0af93",
   "metadata": {
    "papermill": {
     "duration": 0.017398,
     "end_time": "2022-04-13T04:19:54.158660",
     "exception": false,
     "start_time": "2022-04-13T04:19:54.141262",
     "status": "completed"
    },
    "tags": []
   },
   "source": [
    "Create a `DataFrame` of products mentioned on *either* subreddit."
   ]
  },
  {
   "cell_type": "code",
   "execution_count": 8,
   "id": "c570d957",
   "metadata": {
    "execution": {
     "iopub.execute_input": "2022-04-13T04:19:54.197120Z",
     "iopub.status.busy": "2022-04-13T04:19:54.196508Z",
     "iopub.status.idle": "2022-04-13T04:19:54.206161Z",
     "shell.execute_reply": "2022-04-13T04:19:54.206681Z",
     "shell.execute_reply.started": "2022-04-13T04:14:25.962477Z"
    },
    "papermill": {
     "duration": 0.030436,
     "end_time": "2022-04-13T04:19:54.206844",
     "exception": false,
     "start_time": "2022-04-13T04:19:54.176408",
     "status": "completed"
    },
    "tags": []
   },
   "outputs": [
    {
     "data": {
      "application/javascript": [
       "parent.postMessage({\"jupyterEvent\": \"custom.exercise_interaction\", \"data\": {\"outcomeType\": 1, \"valueTowardsCompletion\": 0.25, \"interactionType\": 1, \"questionType\": 2, \"questionId\": \"3_ConcatReddit\", \"learnToolsVersion\": \"0.3.4\", \"failureMessage\": \"\", \"exceptionClass\": \"\", \"trace\": \"\"}}, \"*\")"
      ],
      "text/plain": [
       "<IPython.core.display.Javascript object>"
      ]
     },
     "metadata": {},
     "output_type": "display_data"
    },
    {
     "data": {
      "text/markdown": [
       "<span style=\"color:#33cc33\">Correct</span>"
      ],
      "text/plain": [
       "Correct"
      ]
     },
     "metadata": {},
     "output_type": "display_data"
    }
   ],
   "source": [
    "combined_products = pd.concat([gaming_products,movie_products])\n",
    "\n",
    "# Check your answer\n",
    "q3.check()"
   ]
  },
  {
   "cell_type": "code",
   "execution_count": 9,
   "id": "3326985e",
   "metadata": {
    "execution": {
     "iopub.execute_input": "2022-04-13T04:19:54.246992Z",
     "iopub.status.busy": "2022-04-13T04:19:54.246403Z",
     "iopub.status.idle": "2022-04-13T04:19:54.249367Z",
     "shell.execute_reply": "2022-04-13T04:19:54.249832Z",
     "shell.execute_reply.started": "2022-04-13T04:14:49.023739Z"
    },
    "papermill": {
     "duration": 0.024647,
     "end_time": "2022-04-13T04:19:54.250015",
     "exception": false,
     "start_time": "2022-04-13T04:19:54.225368",
     "status": "completed"
    },
    "tags": []
   },
   "outputs": [],
   "source": [
    "#q3.hint()\n",
    "#q3.solution()"
   ]
  },
  {
   "cell_type": "markdown",
   "id": "5d91c641",
   "metadata": {
    "papermill": {
     "duration": 0.018495,
     "end_time": "2022-04-13T04:19:54.287419",
     "exception": false,
     "start_time": "2022-04-13T04:19:54.268924",
     "status": "completed"
    },
    "tags": []
   },
   "source": [
    "## 4.\n",
    "The [Powerlifting Database](https://www.kaggle.com/open-powerlifting/powerlifting-database) dataset on Kaggle includes one CSV table for powerlifting meets and a separate one for powerlifting competitors. Run the cell below to load these datasets into dataframes:"
   ]
  },
  {
   "cell_type": "code",
   "execution_count": 10,
   "id": "4f6bb019",
   "metadata": {
    "execution": {
     "iopub.execute_input": "2022-04-13T04:19:54.330361Z",
     "iopub.status.busy": "2022-04-13T04:19:54.329758Z",
     "iopub.status.idle": "2022-04-13T04:19:55.028422Z",
     "shell.execute_reply": "2022-04-13T04:19:55.027891Z",
     "shell.execute_reply.started": "2022-04-13T04:16:20.383824Z"
    },
    "papermill": {
     "duration": 0.721041,
     "end_time": "2022-04-13T04:19:55.028574",
     "exception": false,
     "start_time": "2022-04-13T04:19:54.307533",
     "status": "completed"
    },
    "tags": []
   },
   "outputs": [],
   "source": [
    "powerlifting_meets = pd.read_csv(\"../input/powerlifting-database/meets.csv\")\n",
    "powerlifting_competitors = pd.read_csv(\"../input/powerlifting-database/openpowerlifting.csv\")"
   ]
  },
  {
   "cell_type": "markdown",
   "id": "610db0f2",
   "metadata": {
    "papermill": {
     "duration": 0.019365,
     "end_time": "2022-04-13T04:19:55.067637",
     "exception": false,
     "start_time": "2022-04-13T04:19:55.048272",
     "status": "completed"
    },
    "tags": []
   },
   "source": [
    "Both tables include references to a `MeetID`, a unique key for each meet (competition) included in the database. Using this, generate a dataset combining the two tables into one."
   ]
  },
  {
   "cell_type": "code",
   "execution_count": 11,
   "id": "10d450c8",
   "metadata": {
    "execution": {
     "iopub.execute_input": "2022-04-13T04:19:55.110466Z",
     "iopub.status.busy": "2022-04-13T04:19:55.109823Z",
     "iopub.status.idle": "2022-04-13T04:19:55.901093Z",
     "shell.execute_reply": "2022-04-13T04:19:55.900562Z",
     "shell.execute_reply.started": "2022-04-13T04:18:29.443671Z"
    },
    "papermill": {
     "duration": 0.814025,
     "end_time": "2022-04-13T04:19:55.901234",
     "exception": false,
     "start_time": "2022-04-13T04:19:55.087209",
     "status": "completed"
    },
    "tags": []
   },
   "outputs": [
    {
     "data": {
      "application/javascript": [
       "parent.postMessage({\"jupyterEvent\": \"custom.exercise_interaction\", \"data\": {\"outcomeType\": 1, \"valueTowardsCompletion\": 0.25, \"interactionType\": 1, \"questionType\": 2, \"questionId\": \"4_JoinLifting\", \"learnToolsVersion\": \"0.3.4\", \"failureMessage\": \"\", \"exceptionClass\": \"\", \"trace\": \"\"}}, \"*\")"
      ],
      "text/plain": [
       "<IPython.core.display.Javascript object>"
      ]
     },
     "metadata": {},
     "output_type": "display_data"
    },
    {
     "data": {
      "text/markdown": [
       "<span style=\"color:#33cc33\">Correct</span>"
      ],
      "text/plain": [
       "Correct"
      ]
     },
     "metadata": {},
     "output_type": "display_data"
    }
   ],
   "source": [
    "powerlifting_combined = powerlifting_meets.set_index('MeetID').join(powerlifting_competitors.set_index(\"MeetID\"))\n",
    "\n",
    "# Check your answer\n",
    "q4.check()"
   ]
  },
  {
   "cell_type": "code",
   "execution_count": 12,
   "id": "cc212dcc",
   "metadata": {
    "execution": {
     "iopub.execute_input": "2022-04-13T04:19:55.945225Z",
     "iopub.status.busy": "2022-04-13T04:19:55.943653Z",
     "iopub.status.idle": "2022-04-13T04:19:55.946941Z",
     "shell.execute_reply": "2022-04-13T04:19:55.947408Z",
     "shell.execute_reply.started": "2022-04-13T04:18:35.802785Z"
    },
    "papermill": {
     "duration": 0.026452,
     "end_time": "2022-04-13T04:19:55.947578",
     "exception": false,
     "start_time": "2022-04-13T04:19:55.921126",
     "status": "completed"
    },
    "tags": []
   },
   "outputs": [],
   "source": [
    "#q4.hint()\n",
    "#q4.solution()"
   ]
  },
  {
   "cell_type": "markdown",
   "id": "98e169f7",
   "metadata": {
    "papermill": {
     "duration": 0.019433,
     "end_time": "2022-04-13T04:19:55.986891",
     "exception": false,
     "start_time": "2022-04-13T04:19:55.967458",
     "status": "completed"
    },
    "tags": []
   },
   "source": [
    "# Congratulations!\n",
    "\n",
    "You've finished the Pandas micro-course.  Many data scientists feel efficiency with Pandas is the most useful and practical skill they have, because it allows you to progress quickly in any project you have.\n",
    "\n",
    "If you'd like to apply your new skills to examining geospatial data, you're encouraged to check out our **[Geospatial Analysis](https://www.kaggle.com/learn/geospatial-analysis)** micro-course.\n",
    "\n",
    "You can also take advantage of your Pandas skills by entering a **[Kaggle Competition](https://www.kaggle.com/competitions)** or by answering a question you find interesting using **[Kaggle Datasets](https://www.kaggle.com/datasets)**."
   ]
  },
  {
   "cell_type": "markdown",
   "id": "ce90f8db",
   "metadata": {
    "papermill": {
     "duration": 0.019585,
     "end_time": "2022-04-13T04:19:56.026144",
     "exception": false,
     "start_time": "2022-04-13T04:19:56.006559",
     "status": "completed"
    },
    "tags": []
   },
   "source": [
    "---\n",
    "\n",
    "\n",
    "\n",
    "\n",
    "*Have questions or comments? Visit the [course discussion forum](https://www.kaggle.com/learn/pandas/discussion) to chat with other learners.*"
   ]
  }
 ],
 "metadata": {
  "kernelspec": {
   "display_name": "Python 3",
   "language": "python",
   "name": "python3"
  },
  "language_info": {
   "codemirror_mode": {
    "name": "ipython",
    "version": 3
   },
   "file_extension": ".py",
   "mimetype": "text/x-python",
   "name": "python",
   "nbconvert_exporter": "python",
   "pygments_lexer": "ipython3",
   "version": "3.7.12"
  },
  "papermill": {
   "default_parameters": {},
   "duration": 15.435374,
   "end_time": "2022-04-13T04:19:56.755738",
   "environment_variables": {},
   "exception": null,
   "input_path": "__notebook__.ipynb",
   "output_path": "__notebook__.ipynb",
   "parameters": {},
   "start_time": "2022-04-13T04:19:41.320364",
   "version": "2.3.3"
  }
 },
 "nbformat": 4,
 "nbformat_minor": 5
}
