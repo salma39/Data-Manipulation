{
 "cells": [
  {
   "cell_type": "markdown",
   "id": "8e063367",
   "metadata": {
    "papermill": {
     "duration": 0.018461,
     "end_time": "2022-04-13T03:49:11.571076",
     "exception": false,
     "start_time": "2022-04-13T03:49:11.552615",
     "status": "completed"
    },
    "tags": []
   },
   "source": [
    "**This notebook is an exercise in the [Pandas](https://www.kaggle.com/learn/pandas) course.  You can reference the tutorial at [this link](https://www.kaggle.com/residentmario/grouping-and-sorting).**\n",
    "\n",
    "---\n"
   ]
  },
  {
   "cell_type": "markdown",
   "id": "98ac2c64",
   "metadata": {
    "papermill": {
     "duration": 0.017021,
     "end_time": "2022-04-13T03:49:11.609973",
     "exception": false,
     "start_time": "2022-04-13T03:49:11.592952",
     "status": "completed"
    },
    "tags": []
   },
   "source": [
    "# Introduction\n",
    "\n",
    "In these exercises we'll apply groupwise analysis to our dataset.\n",
    "\n",
    "Run the code cell below to load the data before running the exercises."
   ]
  },
  {
   "cell_type": "code",
   "execution_count": 1,
   "id": "54b6e3e8",
   "metadata": {
    "execution": {
     "iopub.execute_input": "2022-04-13T03:49:11.654481Z",
     "iopub.status.busy": "2022-04-13T03:49:11.653959Z",
     "iopub.status.idle": "2022-04-13T03:49:14.800090Z",
     "shell.execute_reply": "2022-04-13T03:49:14.800611Z",
     "shell.execute_reply.started": "2022-04-13T03:28:29.845997Z"
    },
    "papermill": {
     "duration": 3.173267,
     "end_time": "2022-04-13T03:49:14.800906",
     "exception": false,
     "start_time": "2022-04-13T03:49:11.627639",
     "status": "completed"
    },
    "tags": []
   },
   "outputs": [
    {
     "name": "stdout",
     "output_type": "stream",
     "text": [
      "Setup complete.\n"
     ]
    }
   ],
   "source": [
    "import pandas as pd\n",
    "\n",
    "reviews = pd.read_csv(\"../input/wine-reviews/winemag-data-130k-v2.csv\", index_col=0)\n",
    "#pd.set_option(\"display.max_rows\", 5)\n",
    "\n",
    "from learntools.core import binder; binder.bind(globals())\n",
    "from learntools.pandas.grouping_and_sorting import *\n",
    "print(\"Setup complete.\")"
   ]
  },
  {
   "cell_type": "markdown",
   "id": "a5b302d4",
   "metadata": {
    "papermill": {
     "duration": 0.026738,
     "end_time": "2022-04-13T03:49:14.855105",
     "exception": false,
     "start_time": "2022-04-13T03:49:14.828367",
     "status": "completed"
    },
    "tags": []
   },
   "source": [
    "# Exercises"
   ]
  },
  {
   "cell_type": "markdown",
   "id": "ee5e5f48",
   "metadata": {
    "papermill": {
     "duration": 0.026593,
     "end_time": "2022-04-13T03:49:14.908772",
     "exception": false,
     "start_time": "2022-04-13T03:49:14.882179",
     "status": "completed"
    },
    "tags": []
   },
   "source": [
    "## 1.\n",
    "Who are the most common wine reviewers in the dataset? Create a `Series` whose index is the `taster_twitter_handle` category from the dataset, and whose values count how many reviews each person wrote."
   ]
  },
  {
   "cell_type": "code",
   "execution_count": 2,
   "id": "102e1145",
   "metadata": {
    "execution": {
     "iopub.execute_input": "2022-04-13T03:49:14.967196Z",
     "iopub.status.busy": "2022-04-13T03:49:14.966317Z",
     "iopub.status.idle": "2022-04-13T03:49:15.010462Z",
     "shell.execute_reply": "2022-04-13T03:49:15.009988Z",
     "shell.execute_reply.started": "2022-04-13T03:32:55.472113Z"
    },
    "papermill": {
     "duration": 0.074327,
     "end_time": "2022-04-13T03:49:15.010577",
     "exception": false,
     "start_time": "2022-04-13T03:49:14.936250",
     "status": "completed"
    },
    "tags": []
   },
   "outputs": [
    {
     "data": {
      "application/javascript": [
       "parent.postMessage({\"jupyterEvent\": \"custom.exercise_interaction\", \"data\": {\"outcomeType\": 1, \"valueTowardsCompletion\": 0.16666666666666666, \"interactionType\": 1, \"questionType\": 1, \"questionId\": \"1_ReviewsWritten\", \"learnToolsVersion\": \"0.3.4\", \"failureMessage\": \"\", \"exceptionClass\": \"\", \"trace\": \"\"}}, \"*\")"
      ],
      "text/plain": [
       "<IPython.core.display.Javascript object>"
      ]
     },
     "metadata": {},
     "output_type": "display_data"
    },
    {
     "data": {
      "text/markdown": [
       "<span style=\"color:#33cc33\">Correct:</span> \n",
       "\n",
       "\n",
       "```python\n",
       "reviews_written = reviews.groupby('taster_twitter_handle').size()\n",
       "```\n",
       "or\n",
       "```python\n",
       "reviews_written = reviews.groupby('taster_twitter_handle').taster_twitter_handle.count()\n",
       "```\n"
      ],
      "text/plain": [
       "Correct: \n",
       "\n",
       "\n",
       "```python\n",
       "reviews_written = reviews.groupby('taster_twitter_handle').size()\n",
       "```\n",
       "or\n",
       "```python\n",
       "reviews_written = reviews.groupby('taster_twitter_handle').taster_twitter_handle.count()\n",
       "```"
      ]
     },
     "metadata": {},
     "output_type": "display_data"
    }
   ],
   "source": [
    "# Your code here\n",
    "reviews_written = reviews.groupby('taster_twitter_handle').taster_twitter_handle.count()\n",
    "\n",
    "# Check your answer\n",
    "q1.check()"
   ]
  },
  {
   "cell_type": "code",
   "execution_count": 3,
   "id": "a33a4e3a",
   "metadata": {
    "execution": {
     "iopub.execute_input": "2022-04-13T03:49:15.054177Z",
     "iopub.status.busy": "2022-04-13T03:49:15.053666Z",
     "iopub.status.idle": "2022-04-13T03:49:15.055076Z",
     "shell.execute_reply": "2022-04-13T03:49:15.055542Z",
     "shell.execute_reply.started": "2022-04-13T03:32:59.396971Z"
    },
    "papermill": {
     "duration": 0.025267,
     "end_time": "2022-04-13T03:49:15.055709",
     "exception": false,
     "start_time": "2022-04-13T03:49:15.030442",
     "status": "completed"
    },
    "tags": []
   },
   "outputs": [],
   "source": [
    "#q1.hint()\n",
    "#q1.solution()"
   ]
  },
  {
   "cell_type": "markdown",
   "id": "693b2209",
   "metadata": {
    "papermill": {
     "duration": 0.028804,
     "end_time": "2022-04-13T03:49:15.114208",
     "exception": false,
     "start_time": "2022-04-13T03:49:15.085404",
     "status": "completed"
    },
    "tags": []
   },
   "source": [
    "## 2.\n",
    "What is the best wine I can buy for a given amount of money? Create a `Series` whose index is wine prices and whose values is the maximum number of points a wine costing that much was given in a review. Sort the values by price, ascending (so that `4.0` dollars is at the top and `3300.0` dollars is at the bottom)."
   ]
  },
  {
   "cell_type": "code",
   "execution_count": 4,
   "id": "698cd46a",
   "metadata": {
    "execution": {
     "iopub.execute_input": "2022-04-13T03:49:15.177913Z",
     "iopub.status.busy": "2022-04-13T03:49:15.177035Z",
     "iopub.status.idle": "2022-04-13T03:49:15.189293Z",
     "shell.execute_reply": "2022-04-13T03:49:15.189954Z",
     "shell.execute_reply.started": "2022-04-13T03:34:40.678751Z"
    },
    "papermill": {
     "duration": 0.047199,
     "end_time": "2022-04-13T03:49:15.190118",
     "exception": false,
     "start_time": "2022-04-13T03:49:15.142919",
     "status": "completed"
    },
    "tags": []
   },
   "outputs": [
    {
     "data": {
      "application/javascript": [
       "parent.postMessage({\"jupyterEvent\": \"custom.exercise_interaction\", \"data\": {\"outcomeType\": 1, \"valueTowardsCompletion\": 0.16666666666666666, \"interactionType\": 1, \"questionType\": 1, \"questionId\": \"2_BestRatingPerPrice\", \"learnToolsVersion\": \"0.3.4\", \"failureMessage\": \"\", \"exceptionClass\": \"\", \"trace\": \"\"}}, \"*\")"
      ],
      "text/plain": [
       "<IPython.core.display.Javascript object>"
      ]
     },
     "metadata": {},
     "output_type": "display_data"
    },
    {
     "data": {
      "text/markdown": [
       "<span style=\"color:#33cc33\">Correct</span>"
      ],
      "text/plain": [
       "Correct"
      ]
     },
     "metadata": {},
     "output_type": "display_data"
    }
   ],
   "source": [
    "best_rating_per_price = reviews.groupby('price').points.max().sort_index()\n",
    "\n",
    "# Check your answer\n",
    "q2.check()"
   ]
  },
  {
   "cell_type": "code",
   "execution_count": 5,
   "id": "0223ff1e",
   "metadata": {
    "execution": {
     "iopub.execute_input": "2022-04-13T03:49:15.255326Z",
     "iopub.status.busy": "2022-04-13T03:49:15.254696Z",
     "iopub.status.idle": "2022-04-13T03:49:15.257636Z",
     "shell.execute_reply": "2022-04-13T03:49:15.258209Z",
     "shell.execute_reply.started": "2022-04-13T03:34:44.865042Z"
    },
    "papermill": {
     "duration": 0.038425,
     "end_time": "2022-04-13T03:49:15.258386",
     "exception": false,
     "start_time": "2022-04-13T03:49:15.219961",
     "status": "completed"
    },
    "tags": []
   },
   "outputs": [],
   "source": [
    "#q2.hint()\n",
    "#q2.solution()"
   ]
  },
  {
   "cell_type": "markdown",
   "id": "72e13550",
   "metadata": {
    "papermill": {
     "duration": 0.030199,
     "end_time": "2022-04-13T03:49:15.319985",
     "exception": false,
     "start_time": "2022-04-13T03:49:15.289786",
     "status": "completed"
    },
    "tags": []
   },
   "source": [
    "## 3.\n",
    "What are the minimum and maximum prices for each `variety` of wine? Create a `DataFrame` whose index is the `variety` category from the dataset and whose values are the `min` and `max` values thereof."
   ]
  },
  {
   "cell_type": "code",
   "execution_count": 6,
   "id": "a6c68a7e",
   "metadata": {
    "execution": {
     "iopub.execute_input": "2022-04-13T03:49:15.384456Z",
     "iopub.status.busy": "2022-04-13T03:49:15.383739Z",
     "iopub.status.idle": "2022-04-13T03:49:15.420227Z",
     "shell.execute_reply": "2022-04-13T03:49:15.419613Z",
     "shell.execute_reply.started": "2022-04-13T03:37:02.111221Z"
    },
    "papermill": {
     "duration": 0.069671,
     "end_time": "2022-04-13T03:49:15.420358",
     "exception": false,
     "start_time": "2022-04-13T03:49:15.350687",
     "status": "completed"
    },
    "tags": []
   },
   "outputs": [
    {
     "data": {
      "application/javascript": [
       "parent.postMessage({\"jupyterEvent\": \"custom.exercise_interaction\", \"data\": {\"outcomeType\": 1, \"valueTowardsCompletion\": 0.16666666666666666, \"interactionType\": 1, \"questionType\": 1, \"questionId\": \"3_PriceExtremes\", \"learnToolsVersion\": \"0.3.4\", \"failureMessage\": \"\", \"exceptionClass\": \"\", \"trace\": \"\"}}, \"*\")"
      ],
      "text/plain": [
       "<IPython.core.display.Javascript object>"
      ]
     },
     "metadata": {},
     "output_type": "display_data"
    },
    {
     "data": {
      "text/markdown": [
       "<span style=\"color:#33cc33\">Correct</span>"
      ],
      "text/plain": [
       "Correct"
      ]
     },
     "metadata": {},
     "output_type": "display_data"
    }
   ],
   "source": [
    "price_extremes = reviews.groupby('variety').price.agg([min,max])\n",
    "\n",
    "# Check your answer\n",
    "q3.check()"
   ]
  },
  {
   "cell_type": "code",
   "execution_count": 7,
   "id": "0da4824f",
   "metadata": {
    "execution": {
     "iopub.execute_input": "2022-04-13T03:49:15.490071Z",
     "iopub.status.busy": "2022-04-13T03:49:15.489261Z",
     "iopub.status.idle": "2022-04-13T03:49:15.492348Z",
     "shell.execute_reply": "2022-04-13T03:49:15.492909Z",
     "shell.execute_reply.started": "2022-04-13T03:37:03.797524Z"
    },
    "papermill": {
     "duration": 0.040136,
     "end_time": "2022-04-13T03:49:15.493103",
     "exception": false,
     "start_time": "2022-04-13T03:49:15.452967",
     "status": "completed"
    },
    "tags": []
   },
   "outputs": [],
   "source": [
    "#q3.hint()\n",
    "#q3.solution()"
   ]
  },
  {
   "cell_type": "markdown",
   "id": "0c41f038",
   "metadata": {
    "papermill": {
     "duration": 0.031275,
     "end_time": "2022-04-13T03:49:15.556576",
     "exception": false,
     "start_time": "2022-04-13T03:49:15.525301",
     "status": "completed"
    },
    "tags": []
   },
   "source": [
    "## 4.\n",
    "What are the most expensive wine varieties? Create a variable `sorted_varieties` containing a copy of the dataframe from the previous question where varieties are sorted in descending order based on minimum price, then on maximum price (to break ties)."
   ]
  },
  {
   "cell_type": "code",
   "execution_count": 8,
   "id": "a9f36b49",
   "metadata": {
    "execution": {
     "iopub.execute_input": "2022-04-13T03:49:15.623605Z",
     "iopub.status.busy": "2022-04-13T03:49:15.622954Z",
     "iopub.status.idle": "2022-04-13T03:49:15.632414Z",
     "shell.execute_reply": "2022-04-13T03:49:15.632933Z",
     "shell.execute_reply.started": "2022-04-13T03:39:33.227351Z"
    },
    "papermill": {
     "duration": 0.044687,
     "end_time": "2022-04-13T03:49:15.633105",
     "exception": false,
     "start_time": "2022-04-13T03:49:15.588418",
     "status": "completed"
    },
    "tags": []
   },
   "outputs": [
    {
     "data": {
      "application/javascript": [
       "parent.postMessage({\"jupyterEvent\": \"custom.exercise_interaction\", \"data\": {\"outcomeType\": 1, \"valueTowardsCompletion\": 0.16666666666666666, \"interactionType\": 1, \"questionType\": 1, \"questionId\": \"4_SortedVarieties\", \"learnToolsVersion\": \"0.3.4\", \"failureMessage\": \"\", \"exceptionClass\": \"\", \"trace\": \"\"}}, \"*\")"
      ],
      "text/plain": [
       "<IPython.core.display.Javascript object>"
      ]
     },
     "metadata": {},
     "output_type": "display_data"
    },
    {
     "data": {
      "text/markdown": [
       "<span style=\"color:#33cc33\">Correct</span>"
      ],
      "text/plain": [
       "Correct"
      ]
     },
     "metadata": {},
     "output_type": "display_data"
    }
   ],
   "source": [
    "sorted_varieties = price_extremes.sort_values(by=['min','max'],ascending=False)\n",
    "\n",
    "# Check your answer\n",
    "q4.check()"
   ]
  },
  {
   "cell_type": "code",
   "execution_count": 9,
   "id": "582dbf5e",
   "metadata": {
    "execution": {
     "iopub.execute_input": "2022-04-13T03:49:15.705113Z",
     "iopub.status.busy": "2022-04-13T03:49:15.703652Z",
     "iopub.status.idle": "2022-04-13T03:49:15.708569Z",
     "shell.execute_reply": "2022-04-13T03:49:15.707916Z",
     "shell.execute_reply.started": "2022-04-13T03:39:34.541935Z"
    },
    "papermill": {
     "duration": 0.042031,
     "end_time": "2022-04-13T03:49:15.708709",
     "exception": false,
     "start_time": "2022-04-13T03:49:15.666678",
     "status": "completed"
    },
    "tags": []
   },
   "outputs": [],
   "source": [
    "#q4.hint()\n",
    "#q4.solution()"
   ]
  },
  {
   "cell_type": "markdown",
   "id": "89a0cd85",
   "metadata": {
    "papermill": {
     "duration": 0.032645,
     "end_time": "2022-04-13T03:49:15.774681",
     "exception": false,
     "start_time": "2022-04-13T03:49:15.742036",
     "status": "completed"
    },
    "tags": []
   },
   "source": [
    "## 5.\n",
    "Create a `Series` whose index is reviewers and whose values is the average review score given out by that reviewer. Hint: you will need the `taster_name` and `points` columns."
   ]
  },
  {
   "cell_type": "code",
   "execution_count": 10,
   "id": "ff24f2bb",
   "metadata": {
    "execution": {
     "iopub.execute_input": "2022-04-13T03:49:15.843821Z",
     "iopub.status.busy": "2022-04-13T03:49:15.843051Z",
     "iopub.status.idle": "2022-04-13T03:49:15.859607Z",
     "shell.execute_reply": "2022-04-13T03:49:15.860183Z",
     "shell.execute_reply.started": "2022-04-13T03:43:44.637316Z"
    },
    "papermill": {
     "duration": 0.052866,
     "end_time": "2022-04-13T03:49:15.860357",
     "exception": false,
     "start_time": "2022-04-13T03:49:15.807491",
     "status": "completed"
    },
    "tags": []
   },
   "outputs": [
    {
     "data": {
      "application/javascript": [
       "parent.postMessage({\"jupyterEvent\": \"custom.exercise_interaction\", \"data\": {\"outcomeType\": 1, \"valueTowardsCompletion\": 0.16666666666666666, \"interactionType\": 1, \"questionType\": 1, \"questionId\": \"5_ReviewerMeanRatings\", \"learnToolsVersion\": \"0.3.4\", \"failureMessage\": \"\", \"exceptionClass\": \"\", \"trace\": \"\"}}, \"*\")"
      ],
      "text/plain": [
       "<IPython.core.display.Javascript object>"
      ]
     },
     "metadata": {},
     "output_type": "display_data"
    },
    {
     "data": {
      "text/markdown": [
       "<span style=\"color:#33cc33\">Correct</span>"
      ],
      "text/plain": [
       "Correct"
      ]
     },
     "metadata": {},
     "output_type": "display_data"
    }
   ],
   "source": [
    "reviewer_mean_ratings = reviews.groupby('taster_name').points.mean()\n",
    "\n",
    "# Check your answer\n",
    "q5.check()"
   ]
  },
  {
   "cell_type": "code",
   "execution_count": 11,
   "id": "356255e6",
   "metadata": {
    "execution": {
     "iopub.execute_input": "2022-04-13T03:49:15.933114Z",
     "iopub.status.busy": "2022-04-13T03:49:15.932342Z",
     "iopub.status.idle": "2022-04-13T03:49:15.934888Z",
     "shell.execute_reply": "2022-04-13T03:49:15.935423Z",
     "shell.execute_reply.started": "2022-04-13T03:43:48.915211Z"
    },
    "papermill": {
     "duration": 0.040897,
     "end_time": "2022-04-13T03:49:15.935579",
     "exception": false,
     "start_time": "2022-04-13T03:49:15.894682",
     "status": "completed"
    },
    "tags": []
   },
   "outputs": [],
   "source": [
    "#q5.hint()\n",
    "#q5.solution()"
   ]
  },
  {
   "cell_type": "markdown",
   "id": "b2f2b941",
   "metadata": {
    "papermill": {
     "duration": 0.035164,
     "end_time": "2022-04-13T03:49:16.006554",
     "exception": false,
     "start_time": "2022-04-13T03:49:15.971390",
     "status": "completed"
    },
    "tags": []
   },
   "source": [
    "Are there significant differences in the average scores assigned by the various reviewers? Run the cell below to use the `describe()` method to see a summary of the range of values."
   ]
  },
  {
   "cell_type": "code",
   "execution_count": 12,
   "id": "3d18178e",
   "metadata": {
    "execution": {
     "iopub.execute_input": "2022-04-13T03:49:16.081608Z",
     "iopub.status.busy": "2022-04-13T03:49:16.080744Z",
     "iopub.status.idle": "2022-04-13T03:49:16.093258Z",
     "shell.execute_reply": "2022-04-13T03:49:16.093794Z",
     "shell.execute_reply.started": "2022-04-13T03:43:57.634122Z"
    },
    "papermill": {
     "duration": 0.051492,
     "end_time": "2022-04-13T03:49:16.093980",
     "exception": false,
     "start_time": "2022-04-13T03:49:16.042488",
     "status": "completed"
    },
    "tags": []
   },
   "outputs": [
    {
     "data": {
      "text/plain": [
       "count    19.000000\n",
       "mean     88.233026\n",
       "std       1.243610\n",
       "min      85.855422\n",
       "25%      87.323501\n",
       "50%      88.536235\n",
       "75%      88.975256\n",
       "max      90.562551\n",
       "Name: points, dtype: float64"
      ]
     },
     "execution_count": 12,
     "metadata": {},
     "output_type": "execute_result"
    }
   ],
   "source": [
    "reviewer_mean_ratings.describe()"
   ]
  },
  {
   "cell_type": "markdown",
   "id": "164515d6",
   "metadata": {
    "papermill": {
     "duration": 0.033938,
     "end_time": "2022-04-13T03:49:16.164690",
     "exception": false,
     "start_time": "2022-04-13T03:49:16.130752",
     "status": "completed"
    },
    "tags": []
   },
   "source": [
    "## 6.\n",
    "What combination of countries and varieties are most common? Create a `Series` whose index is a `MultiIndex`of `{country, variety}` pairs. For example, a pinot noir produced in the US should map to `{\"US\", \"Pinot Noir\"}`. Sort the values in the `Series` in descending order based on wine count."
   ]
  },
  {
   "cell_type": "code",
   "execution_count": 13,
   "id": "acf03272",
   "metadata": {
    "execution": {
     "iopub.execute_input": "2022-04-13T03:49:16.222069Z",
     "iopub.status.busy": "2022-04-13T03:49:16.221473Z",
     "iopub.status.idle": "2022-04-13T03:49:16.282210Z",
     "shell.execute_reply": "2022-04-13T03:49:16.282653Z",
     "shell.execute_reply.started": "2022-04-13T03:48:08.654431Z"
    },
    "papermill": {
     "duration": 0.094688,
     "end_time": "2022-04-13T03:49:16.282784",
     "exception": false,
     "start_time": "2022-04-13T03:49:16.188096",
     "status": "completed"
    },
    "tags": []
   },
   "outputs": [
    {
     "data": {
      "application/javascript": [
       "parent.postMessage({\"jupyterEvent\": \"custom.exercise_interaction\", \"data\": {\"outcomeType\": 1, \"valueTowardsCompletion\": 0.16666666666666666, \"interactionType\": 1, \"questionType\": 1, \"questionId\": \"6_GroupbyCountryVariety\", \"learnToolsVersion\": \"0.3.4\", \"failureMessage\": \"\", \"exceptionClass\": \"\", \"trace\": \"\"}}, \"*\")"
      ],
      "text/plain": [
       "<IPython.core.display.Javascript object>"
      ]
     },
     "metadata": {},
     "output_type": "display_data"
    },
    {
     "data": {
      "text/markdown": [
       "<span style=\"color:#33cc33\">Correct</span>"
      ],
      "text/plain": [
       "Correct"
      ]
     },
     "metadata": {},
     "output_type": "display_data"
    }
   ],
   "source": [
    "country_variety_counts = reviews.groupby(['country','variety']).variety.count().sort_values(ascending= False)\n",
    "\n",
    "# Check your answer\n",
    "q6.check()"
   ]
  },
  {
   "cell_type": "code",
   "execution_count": 14,
   "id": "cfaccf72",
   "metadata": {
    "execution": {
     "iopub.execute_input": "2022-04-13T03:49:16.334911Z",
     "iopub.status.busy": "2022-04-13T03:49:16.334143Z",
     "iopub.status.idle": "2022-04-13T03:49:16.338522Z",
     "shell.execute_reply": "2022-04-13T03:49:16.338055Z",
     "shell.execute_reply.started": "2022-04-13T03:48:22.048481Z"
    },
    "papermill": {
     "duration": 0.031459,
     "end_time": "2022-04-13T03:49:16.338631",
     "exception": false,
     "start_time": "2022-04-13T03:49:16.307172",
     "status": "completed"
    },
    "tags": []
   },
   "outputs": [],
   "source": [
    "#q6.hint()\n",
    "#q6.solution()"
   ]
  },
  {
   "cell_type": "markdown",
   "id": "8c3c4401",
   "metadata": {
    "papermill": {
     "duration": 0.024764,
     "end_time": "2022-04-13T03:49:16.388822",
     "exception": false,
     "start_time": "2022-04-13T03:49:16.364058",
     "status": "completed"
    },
    "tags": []
   },
   "source": [
    "# Keep going\n",
    "\n",
    "Move on to the [**data types and missing data**](https://www.kaggle.com/residentmario/data-types-and-missing-values)."
   ]
  },
  {
   "cell_type": "markdown",
   "id": "c31e6a29",
   "metadata": {
    "papermill": {
     "duration": 0.024273,
     "end_time": "2022-04-13T03:49:16.437667",
     "exception": false,
     "start_time": "2022-04-13T03:49:16.413394",
     "status": "completed"
    },
    "tags": []
   },
   "source": [
    "---\n",
    "\n",
    "\n",
    "\n",
    "\n",
    "*Have questions or comments? Visit the [course discussion forum](https://www.kaggle.com/learn/pandas/discussion) to chat with other learners.*"
   ]
  }
 ],
 "metadata": {
  "kernelspec": {
   "display_name": "Python 3",
   "language": "python",
   "name": "python3"
  },
  "language_info": {
   "codemirror_mode": {
    "name": "ipython",
    "version": 3
   },
   "file_extension": ".py",
   "mimetype": "text/x-python",
   "name": "python",
   "nbconvert_exporter": "python",
   "pygments_lexer": "ipython3",
   "version": "3.7.12"
  },
  "papermill": {
   "default_parameters": {},
   "duration": 17.099748,
   "end_time": "2022-04-13T03:49:17.372919",
   "environment_variables": {},
   "exception": null,
   "input_path": "__notebook__.ipynb",
   "output_path": "__notebook__.ipynb",
   "parameters": {},
   "start_time": "2022-04-13T03:49:00.273171",
   "version": "2.3.3"
  }
 },
 "nbformat": 4,
 "nbformat_minor": 5
}
